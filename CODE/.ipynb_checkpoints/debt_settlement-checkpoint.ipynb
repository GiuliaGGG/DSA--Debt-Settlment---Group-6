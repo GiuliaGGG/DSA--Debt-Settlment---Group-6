{
 "cells": [
  {
   "cell_type": "code",
<<<<<<< Updated upstream
=======
   "execution_count": 4,
   "id": "0266c625-4756-4759-ae5c-3cb5639826bf",
   "metadata": {},
   "outputs": [
    {
     "name": "stdout",
     "output_type": "stream",
     "text": [
      "Collecting scipy\n",
      "  Using cached scipy-1.12.0-cp311-cp311-win_amd64.whl.metadata (60 kB)\n",
      "Requirement already satisfied: numpy<1.29.0,>=1.22.4 in c:\\users\\giulia maria\\miniconda3\\envs\\mcc\\lib\\site-packages (from scipy) (1.26.4)\n",
      "Using cached scipy-1.12.0-cp311-cp311-win_amd64.whl (46.2 MB)\n",
      "Installing collected packages: scipy\n",
      "Successfully installed scipy-1.12.0\n",
      "Note: you may need to restart the kernel to use updated packages.\n"
     ]
    }
   ],
   "source": [
    "pip install scipy"
   ]
  },
  {
   "cell_type": "code",
>>>>>>> Stashed changes
   "execution_count": 1,
   "id": "7d17c033",
   "metadata": {},
   "outputs": [
    {
     "name": "stdout",
     "output_type": "stream",
     "text": [
      "Total Debts:\n",
      "Person B: -80\n",
      "Person A: 20\n",
      "Person C: 10\n",
      "Person D: 50\n"
     ]
    },
    {
     "data": {
      "image/png": "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",
      "text/plain": [
       "<Figure size 640x480 with 1 Axes>"
      ]
     },
     "metadata": {},
     "output_type": "display_data"
    }
   ],
   "source": [
    "#Feed the debts in the form of a directed graph (let’s represent it by G) to the algorithm.\n",
    "\n",
    "import networkx as nx\n",
    "import matplotlib.pyplot as plt\n",
    "\n",
    "def calculate_total_debt(graph):\n",
    "    # Initialize a dictionary to store total debt for each person\n",
    "    total_debt = {node: 0 for node in graph.nodes}\n",
    "\n",
    "    # Iterate through each edge in the graph\n",
    "    for edge in graph.edges:\n",
    "        # Get the source and target nodes of the edge\n",
    "        source, target = edge\n",
    "\n",
    "        # Get the amount of debt on this edge\n",
    "        debt_amount = graph[source][target]['debt']\n",
    "\n",
    "        # Update the total debt for both source and target nodes\n",
    "        total_debt[source] -= debt_amount\n",
    "        total_debt[target] += debt_amount\n",
    "\n",
    "    return total_debt\n",
    "\n",
    "# Example usage:\n",
    "# Create a directed graph representing debts\n",
    "G = nx.DiGraph()\n",
    "\n",
    "# Add edges with debt amounts\n",
    "G.add_edge('Person B', 'Person A', debt=50)\n",
    "G.add_edge('Person B', 'Person C', debt=30)\n",
    "G.add_edge('Person C', 'Person A', debt=20)\n",
    "G.add_edge('Person A', 'Person D', debt=50)\n",
    "#G.add_edge('Person D', 'Person A', debt=10)  TO SEE THE PROBLEM AGAIN, RUN THIS! \n",
    "\n",
    "# Calculate total debts\n",
    "total_debt_result = calculate_total_debt(G)\n",
    "\n",
    "# Print the result\n",
    "print(\"Total Debts:\")\n",
    "for person, debt in total_debt_result.items():\n",
    "    print(f\"{person}: {debt}\")\n",
    "\n",
    "# def visualize_debt_graph(graph):\n",
    "#     # Extract debt amounts for labeling edges\n",
    "#     edge_labels = {(source, target): f\"{graph[source][target]['debt']}\" for source, target in graph.edges}\n",
    " \n",
    "#     # Draw the graph using Kamada-Kawai layout\n",
    "#     pos = nx.kamada_kawai_layout(graph)\n",
    "    \n",
    "#    # Adjust the position of edge labels to prevent overlap\n",
    "#     pos_labels = {}\n",
    "#     for edge, (x, y) in pos.items():\n",
    "#         # Shift the label positions based on the direction of the edge\n",
    "#         if edge in edge_labels:\n",
    "#             shift = 0.05 if graph[edge[0]][edge[1]]['debt'] >= 0 else -0.05\n",
    "#             pos_labels[edge] = (x, y + shift)\n",
    "            \n",
    "#     nx.draw(graph, pos, with_labels=True, node_size=1000, node_color='lightblue', font_weight='bold', arrowsize=20)\n",
    "#     nx.draw_networkx_edge_labels(graph, pos, edge_labels=edge_labels)\n",
    "\n",
    "#     # Display the plot\n",
    "#     plt.show()\n",
    "\n",
    "# # Visualize the debt graph\n",
    "# visualize_debt_graph(G)"
   ]
  },
  {
   "cell_type": "code",
   "execution_count": null,
   "id": "6e60dbba-8b89-41c6-8335-0fb661f22833",
   "metadata": {},
   "outputs": [],
   "source": [
    "# we stay with this one for now and make it work correcty\n",
    "# what is wrong with it for now? \n",
    "# - if we want to simplify transactions, too advanced for now \n",
    "# - run above to see problem "
   ]
  },
  {
   "cell_type": "code",
   "execution_count": 6,
   "id": "083a0bc8",
   "metadata": {},
   "outputs": [
    {
     "name": "stdout",
     "output_type": "stream",
     "text": [
      "Selected Edge: ('Person B', 'Person A')\n",
      "\n",
      "Total Debts:\n",
      "Person B: -80\n",
      "Person A: 20\n",
      "Person C: 10\n",
      "Person D: 50\n"
     ]
    }
   ],
   "source": [
    " #Select one of the non-visited edges, say (u, v) from the directed graph G. (I don't feel it's correctly working) \n",
    "import networkx as nx\n",
    "import matplotlib.pyplot as plt\n",
    "\n",
    "def calculate_total_debt(graph):\n",
    "    total_debt = {node: 0 for node in graph.nodes}\n",
    "    for edge in graph.edges:\n",
    "        source, target = edge\n",
    "        debt_amount = graph[source][target]['debt']\n",
    "        total_debt[source] -= debt_amount\n",
    "        total_debt[target] += debt_amount\n",
    "    return total_debt\n",
    "\n",
    "def select_non_visited_edge(graph, visited_edges):\n",
    "    for edge in graph.edges:\n",
    "        if edge not in visited_edges:\n",
    "            return edge\n",
    "    return None\n",
    "\n",
    "# Example usage:\n",
    "G = nx.DiGraph()\n",
    "G.add_edge('Person B', 'Person A', debt=50)\n",
    "G.add_edge('Person B', 'Person C', debt=30)\n",
    "G.add_edge('Person C', 'Person A', debt=20)\n",
    "G.add_edge('Person A', 'Person D', debt=50)\n",
    "\n",
    "visited_edges = set()\n",
    "\n",
    "# Select a non-visited edge\n",
    "selected_edge = select_non_visited_edge(G, visited_edges)\n",
    "\n",
    "if selected_edge:\n",
    "    visited_edges.add(selected_edge)\n",
    "    print(f\"Selected Edge: {selected_edge}\")\n",
    "else:\n",
    "    print(\"All edges have been visited.\")\n",
    "\n",
    "# Calculate total debts\n",
    "total_debt_result = calculate_total_debt(G)\n",
    "\n",
    "# Print the result\n",
    "print(\"\\nTotal Debts:\")\n",
    "for person, debt in total_debt_result.items():\n",
    "    print(f\"{person}: {debt}\")\n"
   ]
  },
  {
   "cell_type": "code",
   "execution_count": null,
   "id": "88cb5b32-f271-4858-8b04-223caa39fecd",
   "metadata": {},
   "outputs": [],
   "source": []
  }
 ],
 "metadata": {
  "kernelspec": {
   "display_name": "Python 3",
   "language": "python",
   "name": "python3"
  },
  "language_info": {
   "codemirror_mode": {
    "name": "ipython",
    "version": 3
   },
   "file_extension": ".py",
   "mimetype": "text/x-python",
   "name": "python",
   "nbconvert_exporter": "python",
   "pygments_lexer": "ipython3",
   "version": "3.8.8"
  }
 },
 "nbformat": 4,
 "nbformat_minor": 5
}
