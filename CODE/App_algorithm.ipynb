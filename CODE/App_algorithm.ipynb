{
 "cells": [
  {
   "cell_type": "code",
   "execution_count": null,
   "id": "346084cf-fe2f-4bff-b36a-09229b3e486f",
   "metadata": {},
   "outputs": [],
   "source": [
    "# 1. Brainstorm how algorithm works e.g. on paper, focusing specifically of what tyoe of numerical imput we need \n",
    "#2. Implement steps in form of  a basic python function"
   ]
  },
  {
   "cell_type": "code",
   "execution_count": 6,
   "id": "1b128255-f22d-489b-b5f9-fa0274d9ff49",
   "metadata": {},
   "outputs": [],
   "source": [
    "# Built-in Modules\n",
    "import math\n",
    "import random\n",
    "import sys\n",
    "import itertools\n",
    "import statistics\n",
    "\n",
    "# External Packages\n",
    "import numpy\n",
    "import pandas\n",
    "import matplotlib\n",
    "import seaborn  # for visualization\n",
    "import scipy\n",
    "#import sklearn\n",
    "import pytest\n",
    "import unittest\n",
    "import collections"
   ]
  },
  {
   "cell_type": "code",
   "execution_count": 18,
   "id": "04a1eeaa-fcd2-4669-b28d-6b87709f76a0",
   "metadata": {},
   "outputs": [
    {
     "name": "stdin",
     "output_type": "stream",
     "text": [
      "Enter the payer's name (or 'done' to finish):  Ele\n",
      "Enter the amount:  8\n",
      "Enter the participants separated by commas:  Nif, gg\n",
      "Enter the payer's name (or 'done' to finish):  done\n"
     ]
    },
    {
     "name": "stdout",
     "output_type": "stream",
     "text": [
      "\n",
      "Balances:\n",
      "Ele: -8.0\n",
      "Nif: 4.0\n",
      " gg: 4.0\n"
     ]
    }
   ],
   "source": [
    "def calculate_balances(transactions):\n",
    "    # Initialize an empty dictionary to store balances for each person\n",
    "    balances = {}\n",
    "    \n",
    "    # Iterate over each transaction in the list of transactions\n",
    "    for transaction in transactions:\n",
    "        # Unpack the transaction tuple into payer, amount, and participants\n",
    "        payer, amount, participants = transaction\n",
    "        \n",
    "        # Check if the payer is already in the balances dictionary\n",
    "        if payer not in balances:\n",
    "            # If not, initialize the payer's balance to 0\n",
    "            balances[payer] = 0\n",
    "        \n",
    "        # Deduct the amount from the payer's balance\n",
    "        balances[payer] -= amount\n",
    "        \n",
    "        # Calculate the share of the expense for each participant\n",
    "        share = amount / len(participants)\n",
    "        \n",
    "        # Iterate over each participant in the transaction\n",
    "        for participant in participants:\n",
    "            # Check if the participant is already in the balances dictionary\n",
    "            if participant not in balances:\n",
    "                # If not, initialize the participant's balance to 0\n",
    "                balances[participant] = 0\n",
    "            \n",
    "            # Add the share to the participant's balance\n",
    "            balances[participant] += share\n",
    "            \n",
    "    # Return the dictionary containing balances for each person\n",
    "    return balances\n",
    "\n",
    "def main():\n",
    "    # Initialize an empty list to store transactions\n",
    "    transactions = []\n",
    "    \n",
    "    # Loop to input transactions until the user enters 'done'\n",
    "    while True:\n",
    "        # Prompt the user to enter the payer's name\n",
    "        payer = input(\"Enter the payer's name (or 'done' to finish): \")\n",
    "        \n",
    "        # Check if the user wants to finish entering transactions\n",
    "        if payer.lower() == 'done':\n",
    "            break\n",
    "        \n",
    "        # Prompt the user to enter the amount of the expense\n",
    "        amount = float(input(\"Enter the amount: \"))\n",
    "        \n",
    "        # Prompt the user to enter the participants separated by commas\n",
    "        participants = input(\"Enter the participants separated by commas: \").split(',')\n",
    "        \n",
    "        # Append the tuple (payer, amount, participants) to the transactions list\n",
    "        transactions.append((payer, amount, participants))\n",
    "    \n",
    "    # Call the calculate_balances function with the list of transactions\n",
    "    balances = calculate_balances(transactions)\n",
    "    \n",
    "    # Print the balances for each person\n",
    "    print(\"\\nBalances:\")\n",
    "    for person, balance in balances.items():\n",
    "        print(f\"{person}: {balance}\")\n",
    "\n",
    "if __name__ == \"__main__\":\n",
    "    main()\n"
   ]
  }
 ],
 "metadata": {
  "kernelspec": {
   "display_name": "Python 3 (ipykernel)",
   "language": "python",
   "name": "python3"
  },
  "language_info": {
   "codemirror_mode": {
    "name": "ipython",
    "version": 3
   },
   "file_extension": ".py",
   "mimetype": "text/x-python",
   "name": "python",
   "nbconvert_exporter": "python",
   "pygments_lexer": "ipython3",
   "version": "3.11.5"
  }
 },
 "nbformat": 4,
 "nbformat_minor": 5
}
