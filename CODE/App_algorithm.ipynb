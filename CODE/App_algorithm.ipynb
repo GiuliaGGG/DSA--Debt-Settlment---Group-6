{
 "cells": [
  {
   "cell_type": "code",
   "execution_count": null,
   "id": "346084cf-fe2f-4bff-b36a-09229b3e486f",
   "metadata": {},
   "outputs": [],
   "source": [
    "# 1. Brainstorm how algorithm works e.g. on paper, focusing specifically of what tyoe of numerical imput we need \n",
    "#2. Implement steps in form of  a basic python function"
   ]
  },
  {
   "cell_type": "code",
   "execution_count": 4,
   "id": "1b128255-f22d-489b-b5f9-fa0274d9ff49",
   "metadata": {},
   "outputs": [],
   "source": [
    "# Built-in Modules\n",
    "import math\n",
    "import random\n",
    "import sys\n",
    "import itertools\n",
    "import statistics\n",
    "\n",
    "# External Packages\n",
    "import numpy\n",
    "import pandas\n",
    "import matplotlib\n",
    "import seaborn  # for visualization\n",
    "import scipy\n",
    "import sklearn\n",
    "import pytest\n",
    "import unittest\n",
    "import collections"
   ]
  },
  {
   "cell_type": "code",
   "execution_count": 7,
   "id": "81b36653-8490-48e6-b9bc-6d71e95a5bf3",
   "metadata": {},
   "outputs": [
    {
     "name": "stdout",
     "output_type": "stream",
     "text": [
      "Enter the amount of property:  3\n",
      "Enter the number of creditors:  4\n",
      "Enter creditor 1:  Gabe\n",
      "Enter the amount credited by Gabe:  3\n",
      "Enter creditor 2:  michelle\n",
      "Enter the amount credited by michelle:  3\n",
      "Enter creditor 3:  gg\n",
      "Enter the amount credited by gg:  4\n",
      "Enter creditor 4:  d\n",
      "Enter the amount credited by d:  99\n"
     ]
    },
    {
     "name": "stdout",
     "output_type": "stream",
     "text": [
      "\n",
      "Allocation to Creditors:\n",
      "Gabe: 0.08256880733944955\n",
      "michelle: 0.08256880733944955\n",
      "gg: 0.11009174311926606\n",
      "d: 2.7247706422018347\n"
     ]
    }
   ],
   "source": [
    "# This is the code calculating how much each creditor will get from the debtor's property\n",
    "# based on the ratio of over total \n",
    "def allocate_debt(debt_amount, creditor_dict):\n",
    "    total_credit = sum(creditor_dict.values())\n",
    "    allocation = {}\n",
    "    for creditor, credit_amount in creditor_dict.items():\n",
    "        allocation[creditor] = debt_amount * (credit_amount / total_credit)\n",
    "    return allocation\n",
    "\n",
    "def main():\n",
    "    debt_amount = float(input(\"Enter the amount of property: \")) # the debtor's current property, not the amount of debt\n",
    "    creditor_count = int(input(\"Enter the number of creditors: \")) # how many creditors the debtor owed \n",
    "    creditor_dict = {}\n",
    "    for i in range(creditor_count):\n",
    "        creditor = input(f\"Enter creditor {i+1}: \") # input creditor's name (e.g A, B, C)\n",
    "        credit_amount = float(input(f\"Enter the amount credited by {creditor}: \")) # how much debt the debtor owed to each creditor\n",
    "        creditor_dict[creditor] = credit_amount\n",
    "\n",
    "    allocation = allocate_debt(debt_amount, creditor_dict)\n",
    "    print(\"\\nAllocation to Creditors:\")\n",
    "    for creditor, amount in allocation.items():\n",
    "        print(f\"{creditor}: {amount}\")\n",
    "\n",
    "if __name__ == \"__main__\":\n",
    "    main()"
   ]
  }
 ],
 "metadata": {
  "kernelspec": {
   "display_name": "Python 3 (ipykernel)",
   "language": "python",
   "name": "python3"
  },
  "language_info": {
   "codemirror_mode": {
    "name": "ipython",
    "version": 3
   },
   "file_extension": ".py",
   "mimetype": "text/x-python",
   "name": "python",
   "nbconvert_exporter": "python",
   "pygments_lexer": "ipython3",
   "version": "3.11.5"
  }
 },
 "nbformat": 4,
 "nbformat_minor": 5
}
