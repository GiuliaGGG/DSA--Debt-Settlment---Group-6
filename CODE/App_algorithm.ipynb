{
 "cells": [
  {
   "cell_type": "code",
   "execution_count": null,
   "id": "346084cf-fe2f-4bff-b36a-09229b3e486f",
   "metadata": {},
   "outputs": [],
   "source": [
    "# 1. Brainstorm how algorithm works e.g. on paper, focusing specifically of what tyoe of numerical imput we need \n",
    "#2. Implement steps in form of  a basic python function"
   ]
  },
  {
   "cell_type": "code",
   "execution_count": 7,
   "id": "1b128255-f22d-489b-b5f9-fa0274d9ff49",
   "metadata": {},
   "outputs": [],
   "source": [
    "# Built-in Modules\n",
    "import math\n",
    "import random\n",
    "import sys\n",
    "import itertools\n",
    "import statistics\n",
    "\n",
    "# External Packages\n",
    "import numpy\n",
    "import pandas\n",
    "import matplotlib\n",
    "import seaborn  # for visualization\n",
    "import scipy\n",
    "#import sklearn\n",
    "import pytest\n",
    "import unittest\n",
    "import collections"
   ]
  },
  {
   "cell_type": "code",
   "execution_count": 8,
   "id": "69841d66-20e5-45ea-bfd0-7d757e46e9d9",
   "metadata": {},
   "outputs": [],
   "source": [
    "# Current problems with the next code\n",
    "# For now it only shows 1 payer and people that owe money to them \n",
    "# Ideally, everyone is a payer and a lender\n",
    "# It also does not accept words as imputs, for example what the initial modey was for\n",
    "# among lenders, it shows that every one ower the payer the same sum, which is not always the case in a normal life scenario \n"
   ]
  },
  {
   "cell_type": "code",
   "execution_count": 12,
   "id": "0a0c4a62-b465-4bdb-9db0-8c8d9ff3f066",
   "metadata": {},
   "outputs": [
    {
     "name": "stdin",
     "output_type": "stream",
     "text": [
      "Enter the payer's name (or 'done' to finish):  elen\n",
      "Enter the amount:  7\n",
      "Enter the participants separated by commas:  T, Y, l\n",
      "Enter the payer's name (or 'done' to finish):  done\n"
     ]
    },
    {
     "name": "stdout",
     "output_type": "stream",
     "text": [
      "\n",
      "Balances:\n",
      "elen: -7.0\n",
      "T: 2.3333333333333335\n",
      " Y: 2.3333333333333335\n",
      " l: 2.3333333333333335\n"
     ]
    }
   ],
   "source": [
    "def calculate_balances(transactions):\n",
    "    # Initialize an empty dictionary to store balances for each person\n",
    "    balances = {}\n",
    "    \n",
    "    # Iterate over each transaction in the list of transactions\n",
    "    for transaction in transactions:\n",
    "        # Unpack the transaction tuple into payer, amount, and participants\n",
    "        payer, amount, participants = transaction\n",
    "        \n",
    "        # Check if the payer is already in the balances dictionary\n",
    "        if payer not in balances:\n",
    "            # If not, initialize the payer's balance to 0\n",
    "            balances[payer] = 0\n",
    "        \n",
    "        # Deduct the amount from the payer's balance\n",
    "        balances[payer] -= amount\n",
    "        \n",
    "        # Calculate the share of the expense for each participant\n",
    "        share = amount / len(participants)\n",
    "        \n",
    "        # Iterate over each participant in the transaction\n",
    "        for participant in participants:\n",
    "            # Check if the participant is already in the balances dictionary\n",
    "            if participant not in balances:\n",
    "                # If not, initialize the participant's balance to 0\n",
    "                balances[participant] = 0\n",
    "            \n",
    "            # Add the share to the participant's balance\n",
    "            balances[participant] += share\n",
    "            \n",
    "    # Return the dictionary containing balances for each person\n",
    "    return balances\n",
    "\n",
    "def main():\n",
    "    # Initialize an empty list to store transactions\n",
    "    transactions = []\n",
    "    \n",
    "    # Loop to input transactions until the user enters 'done'\n",
    "    while True:\n",
    "        # Prompt the user to enter the payer's name\n",
    "        payer = input(\"Enter the payer's name (or 'done' to finish): \")\n",
    "        \n",
    "        # Check if the user wants to finish entering transactions\n",
    "        if payer.lower() == 'done':\n",
    "            break\n",
    "        \n",
    "        # Prompt the user to enter the amount of the expense\n",
    "        amount = float(input(\"Enter the amount: \"))\n",
    "        \n",
    "        # Prompt the user to enter the participants separated by commas\n",
    "        participants = input(\"Enter the participants separated by commas: \").split(',')\n",
    "        \n",
    "        # Append the tuple (payer, amount, participants) to the transactions list\n",
    "        transactions.append((payer, amount, participants))\n",
    "    \n",
    "    # Call the calculate_balances function with the list of transactions\n",
    "    balances = calculate_balances(transactions)\n",
    "    \n",
    "    # Print the balances for each person\n",
    "    print(\"\\nBalances:\")\n",
    "    for person, balance in balances.items():\n",
    "        print(f\"{person}: {balance}\")\n",
    "\n",
    "if __name__ == \"__main__\":\n",
    "    main()\n"
   ]
  },
  {
   "cell_type": "code",
   "execution_count": null,
   "id": "76d5588b-fae7-4510-92ff-6a43de26d6a4",
   "metadata": {},
   "outputs": [],
   "source": []
  }
 ],
 "metadata": {
  "kernelspec": {
   "display_name": "Python 3 (ipykernel)",
   "language": "python",
   "name": "python3"
  },
  "language_info": {
   "codemirror_mode": {
    "name": "ipython",
    "version": 3
   },
   "file_extension": ".py",
   "mimetype": "text/x-python",
   "name": "python",
   "nbconvert_exporter": "python",
   "pygments_lexer": "ipython3",
   "version": "3.11.5"
  }
 },
 "nbformat": 4,
 "nbformat_minor": 5
}
