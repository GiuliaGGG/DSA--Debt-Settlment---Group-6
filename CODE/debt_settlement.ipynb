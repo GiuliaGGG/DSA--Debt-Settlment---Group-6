{
 "cells": [
  {
   "cell_type": "code",
   "execution_count": 1,
   "id": "7d17c033",
   "metadata": {
    "scrolled": false
   },
   "outputs": [
    {
     "name": "stdout",
     "output_type": "stream",
     "text": [
      "Total Debts:\n",
      "Person B: -80\n",
      "Person A: 20\n",
      "Person C: 10\n",
      "Person D: 50\n"
     ]
    },
    {
     "data": {
      "image/png": "[encoded data removed]",
      "text/plain": [
       "<Figure size 432x288 with 1 Axes>"
      ]
     },
     "metadata": {},
     "output_type": "display_data"
    }
   ],
   "source": [
    "#Feed the debts in the form of a directed graph (let’s represent it by G) to the algorithm.\n",
    "import networkx as nx\n",
    "import matplotlib.pyplot as plt\n",
    "\n",
    "def calculate_total_debt(graph):\n",
    "    # Initialize a dictionary to store total debt for each person\n",
    "    total_debt = {node: 0 for node in graph.nodes}\n",
    "\n",
    "    # Iterate through each edge in the graph\n",
    "    for edge in graph.edges:\n",
    "        # Get the source and target nodes of the edge\n",
    "        source, target = edge\n",
    "\n",
    "        # Get the amount of debt on this edge\n",
    "        debt_amount = graph[source][target]['debt']\n",
    "\n",
    "        # Update the total debt for both source and target nodes\n",
    "        total_debt[source] -= debt_amount\n",
    "        total_debt[target] += debt_amount\n",
    "\n",
    "    return total_debt\n",
    "\n",
    "# Example usage:\n",
    "# Create a directed graph representing debts\n",
    "G = nx.DiGraph()\n",
    "\n",
    "# Add edges with debt amounts\n",
    "G.add_edge('Person B', 'Person A', debt=50)\n",
    "G.add_edge('Person B', 'Person C', debt=30)\n",
    "G.add_edge('Person C', 'Person A', debt=20)\n",
    "G.add_edge('Person A', 'Person D', debt=50)\n",
    "\n",
    "# Calculate total debts\n",
    "total_debt_result = calculate_total_debt(G)\n",
    "\n",
    "# Print the result\n",
    "print(\"Total Debts:\")\n",
    "for person, debt in total_debt_result.items():\n",
    "    print(f\"{person}: {debt}\")\n",
    "\n",
    "def visualize_debt_graph(graph):\n",
    "    # Extract debt amounts for labeling edges\n",
    "    edge_labels = {(source, target): f\"{graph[source][target]['debt']}\" for source, target in graph.edges}\n",
    " \n",
    "    # Draw the graph using Kamada-Kawai layout\n",
    "    pos = nx.kamada_kawai_layout(graph)\n",
    "    \n",
    "   # Adjust the position of edge labels to prevent overlap\n",
    "    pos_labels = {}\n",
    "    for edge, (x, y) in pos.items():\n",
    "        # Shift the label positions based on the direction of the edge\n",
    "        if edge in edge_labels:\n",
    "            shift = 0.05 if graph[edge[0]][edge[1]]['debt'] >= 0 else -0.05\n",
    "            pos_labels[edge] = (x, y + shift)\n",
    "            \n",
    "    nx.draw(graph, pos, with_labels=True, node_size=1000, node_color='lightblue', font_weight='bold', arrowsize=20)\n",
    "    nx.draw_networkx_edge_labels(graph, pos, edge_labels=edge_labels)\n",
    "\n",
    "    # Display the plot\n",
    "    plt.show()\n",
    "\n",
    "# Visualize the debt graph\n",
    "visualize_debt_graph(G)"
   ]
  },
  {
   "cell_type": "code",
   "execution_count": 2,
   "id": "083a0bc8",
   "metadata": {},
   "outputs": [
    {
     "name": "stdout",
     "output_type": "stream",
     "text": [
      "Selected Edge: ('Person B', 'Person A')\n",
      "\n",
      "Total Debts:\n",
      "Person B: -80\n",
      "Person A: 20\n",
      "Person C: 10\n",
      "Person D: 50\n"
     ]
    }
   ],
   "source": [
    " #Select one of the non-visited edges, say (u, v) from the directed graph G. (I don't feel it's correctly working) \n",
    "import networkx as nx\n",
    "import matplotlib.pyplot as plt\n",
    "\n",
    "def calculate_total_debt(graph):\n",
    "    total_debt = {node: 0 for node in graph.nodes}\n",
    "    for edge in graph.edges:\n",
    "        source, target = edge\n",
    "        debt_amount = graph[source][target]['debt']\n",
    "        total_debt[source] -= debt_amount\n",
    "        total_debt[target] += debt_amount\n",
    "    return total_debt\n",
    "\n",
    "def select_non_visited_edge(graph, visited_edges):\n",
    "    for edge in graph.edges:\n",
    "        if edge not in visited_edges:\n",
    "            return edge\n",
    "    return None\n",
    "\n",
    "# Example usage:\n",
    "G = nx.DiGraph()\n",
    "G.add_edge('Person B', 'Person A', debt=50)\n",
    "G.add_edge('Person B', 'Person C', debt=30)\n",
    "G.add_edge('Person C', 'Person A', debt=20)\n",
    "G.add_edge('Person A', 'Person D', debt=50)\n",
    "\n",
    "visited_edges = set()\n",
    "\n",
    "# Select a non-visited edge\n",
    "selected_edge = select_non_visited_edge(G, visited_edges)\n",
    "\n",
    "if selected_edge:\n",
    "    visited_edges.add(selected_edge)\n",
    "    print(f\"Selected Edge: {selected_edge}\")\n",
    "else:\n",
    "    print(\"All edges have been visited.\")\n",
    "\n",
    "# Calculate total debts\n",
    "total_debt_result = calculate_total_debt(G)\n",
    "\n",
    "# Print the result\n",
    "print(\"\\nTotal Debts:\")\n",
    "for person, debt in total_debt_result.items():\n",
    "    print(f\"{person}: {debt}\")\n"
   ]
  }
 ],
 "metadata": {
  "kernelspec": {
   "display_name": "Python 3",
   "language": "python",
   "name": "python3"
  },
  "language_info": {
   "codemirror_mode": {
    "name": "ipython",
    "version": 3
   },
   "file_extension": ".py",
   "mimetype": "text/x-python",
   "name": "python",
   "nbconvert_exporter": "python",
   "pygments_lexer": "ipython3",
   "version": "3.8.8"
  }
 },
 "nbformat": 4,
 "nbformat_minor": 5
}
