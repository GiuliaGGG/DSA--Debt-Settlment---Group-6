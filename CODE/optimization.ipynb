{
 "cells": [
  {
   "cell_type": "markdown",
   "id": "20076de5",
   "metadata": {},
   "source": [
    "## Method 1: Brute-force "
   ]
  },
  {
   "cell_type": "code",
   "execution_count": null,
   "id": "9eeb931a",
   "metadata": {},
   "outputs": [],
   "source": []
  },
  {
   "cell_type": "markdown",
   "id": "41c737f4",
   "metadata": {},
   "source": [
    "## Method 2: Using built-in `sorted` function."
   ]
  },
  {
   "cell_type": "code",
   "execution_count": 10,
   "id": "c3e141cf",
   "metadata": {},
   "outputs": [
    {
     "name": "stdout",
     "output_type": "stream",
     "text": [
      "The optimal transaction is\n",
      "Fred owes David $60\n",
      "Gabe owes David $20\n",
      "Gabe owes Bob $30\n",
      "Alice owes Charlie $10\n"
     ]
    }
   ],
   "source": [
    "class DebtSimplifier1:\n",
    "    def __init__(self):\n",
    "        self.debts = []\n",
    "\n",
    "    def add_debt(self, borrower, lender, amount):\n",
    "        self.debts.append((borrower, lender, amount))\n",
    "        self.net_balance = {}\n",
    "        for borrower, lender, amount in self.debts:\n",
    "            self.net_balance[borrower] = self.net_balance.get(borrower, 0) - amount\n",
    "            self.net_balance[lender] = self.net_balance.get(lender, 0) + amount\n",
    "    \n",
    "    def simplify_debts(self):\n",
    "        net_balance_copy = self.net_balance.copy()\n",
    "        sorted_balances = sorted(net_balance_copy.items(), key=lambda x: x[1]) # Here we used sorted function\n",
    "    \n",
    "        debtors = 0\n",
    "        creditors = len(sorted_balances) - 1\n",
    "        transactions = []\n",
    "    \n",
    "        while debtors < creditors:\n",
    "            debtor, debtor_balance = sorted_balances[debtors]\n",
    "            creditor, creditor_balance = sorted_balances[creditors]\n",
    "    \n",
    "            if debtor_balance == 0:\n",
    "                debtors += 1\n",
    "                continue\n",
    "            if creditor_balance == 0:\n",
    "                creditors -= 1\n",
    "                continue\n",
    "    \n",
    "            transfer_amount = min(-debtor_balance, creditor_balance)\n",
    "            debtor_balance += transfer_amount\n",
    "            creditor_balance -= transfer_amount\n",
    "    \n",
    "            transactions.append((debtor, creditor, transfer_amount))\n",
    "    \n",
    "            sorted_balances[debtors] = (debtor, debtor_balance)\n",
    "            sorted_balances[creditors] = (creditor, creditor_balance)\n",
    "    \n",
    "            if debtor_balance == 0:\n",
    "                debtors += 1\n",
    "            if creditor_balance == 0:\n",
    "                creditors -= 1\n",
    "    \n",
    "        return transactions\n",
    "    \n",
    "# Example usage:\n",
    "simplifier1 = DebtSimplifier1()\n",
    "simplifier1.add_debt(\"Alice\", \"Bob\", 40)\n",
    "simplifier1.add_debt(\"Bob\", \"Charlie\", 20)\n",
    "simplifier1.add_debt(\"Charlie\", \"David\", 50)\n",
    "simplifier1.add_debt(\"Fred\", \"Bob\", 10)\n",
    "simplifier1.add_debt(\"Fred\", \"Charlie\", 30)\n",
    "simplifier1.add_debt(\"Fred\", \"David\", 30)\n",
    "simplifier1.add_debt(\"Fred\", \"Gabe\", 10)\n",
    "simplifier1.add_debt(\"Gabe\", \"Alice\", 30)\n",
    "simplifier1.add_debt(\"Gabe\", \"Charlie\", 10)\n",
    "simplifier1.add_debt(\"Gabe\", \"Fred\", 20)\n",
    "\n",
    "\n",
    "simplified_transactions1 = simplifier1.simplify_debts()\n",
    "print(\"The optimal transaction is\")\n",
    "for debtor, creditor, amount in simplified_transactions1:\n",
    "    print(f\"{debtor} owes {creditor} ${amount}\")\n"
   ]
  },
  {
   "cell_type": "code",
   "execution_count": 4,
   "id": "c658b996",
   "metadata": {},
   "outputs": [
    {
     "data": {
      "text/plain": [
       "4"
      ]
     },
     "execution_count": 4,
     "metadata": {},
     "output_type": "execute_result"
    }
   ],
   "source": [
    "len(simplified_transactions1)"
   ]
  },
  {
   "cell_type": "markdown",
   "id": "8b836f30",
   "metadata": {},
   "source": [
    "## Method 3: Using merge sort algorithm"
   ]
  },
  {
   "cell_type": "code",
   "execution_count": 11,
   "id": "f259ba8a",
   "metadata": {},
   "outputs": [
    {
     "name": "stdout",
     "output_type": "stream",
     "text": [
      "The optimal transaction is\n",
      "Fred owes David $60\n",
      "Gabe owes David $20\n",
      "Gabe owes Bob $30\n",
      "Alice owes Charlie $10\n"
     ]
    }
   ],
   "source": [
    "class DebtSimplifier2:\n",
    "    def __init__(self):\n",
    "        self.debts = []\n",
    "\n",
    "    def add_debt(self, borrower, lender, amount):\n",
    "        self.debts.append((borrower, lender, amount))\n",
    "        self.net_balance = {}\n",
    "        for borrower, lender, amount in self.debts:\n",
    "            self.net_balance[borrower] = self.net_balance.get(borrower, 0) - amount\n",
    "            self.net_balance[lender] = self.net_balance.get(lender, 0) + amount\n",
    "    def merge_sort(self,arr, compare_func=None):\n",
    "        arr_temp = list(arr)\n",
    "        n = len(arr_temp)    \n",
    "    \n",
    "        if n > 1: \n",
    "            mid = n // 2\n",
    "            arr_temp_left = arr_temp[:mid] \n",
    "            arr_temp_right = arr_temp[mid:]\n",
    "      \n",
    "            arr_temp_left = self.merge_sort(arr_temp_left, compare_func)\n",
    "            arr_temp_right = self.merge_sort(arr_temp_right, compare_func)\n",
    "              \n",
    "            i = j = k = 0\n",
    "            n_left, n_right = len(arr_temp_left), len(arr_temp_right)\n",
    "              \n",
    "            while i < n_left and j < n_right: \n",
    "                if compare_func(arr_temp_left[i], arr_temp_right[j]):\n",
    "                    arr_temp[k] = arr_temp_left[i] \n",
    "                    i += 1\n",
    "                else: \n",
    "                    arr_temp[k] = arr_temp_right[j] \n",
    "                    j += 1\n",
    "                k += 1\n",
    "              \n",
    "            while i < n_left: \n",
    "                arr_temp[k] = arr_temp_left[i] \n",
    "                i += 1\n",
    "                k += 1\n",
    "     \n",
    "            while j < n_right: \n",
    "                arr_temp[k] = arr_temp_right[j] \n",
    "                j += 1\n",
    "                k += 1\n",
    "                \n",
    "        return arr_temp\n",
    "\n",
    "    def merge_sort_dict_by_value(self,dictionary):\n",
    "\n",
    "        def compare_dict_items(item1, item2):\n",
    "\n",
    "            return item1[1] < item2[1]\n",
    "    \n",
    "        items = list(dictionary.items())\n",
    "        sorted_items = self.merge_sort(items, compare_func=compare_dict_items)\n",
    "        return dict(sorted_items)\n",
    "    \n",
    "    def simplify_debts(self):\n",
    "        net_balance_copy = self.net_balance.copy()\n",
    "        sorted_balances = list(self.merge_sort_dict_by_value(net_balance_copy).items())\n",
    "        debtors = 0\n",
    "        creditors = len(sorted_balances) - 1\n",
    "        transactions = []\n",
    "        \n",
    "\n",
    "        while debtors < creditors:\n",
    "            debtor, debtor_balance = sorted_balances[debtors]\n",
    "            creditor, creditor_balance = sorted_balances[creditors]\n",
    "    \n",
    "            if debtor_balance == 0:\n",
    "                debtors += 1\n",
    "                continue\n",
    "            if creditor_balance == 0:\n",
    "                creditors -= 1\n",
    "                continue\n",
    "    \n",
    "            transfer_amount = min(-debtor_balance, creditor_balance)\n",
    "            debtor_balance += transfer_amount\n",
    "            creditor_balance -= transfer_amount\n",
    "    \n",
    "            transactions.append((debtor, creditor, transfer_amount))\n",
    "    \n",
    "            sorted_balances[debtors] = (debtor, debtor_balance)\n",
    "            sorted_balances[creditors] = (creditor, creditor_balance)\n",
    "    \n",
    "            if debtor_balance == 0:\n",
    "                debtors += 1\n",
    "            if creditor_balance == 0:\n",
    "                creditors -= 1\n",
    "    \n",
    "        return transactions\n",
    "            \n",
    "        \n",
    "        \n",
    "simplifier2 = DebtSimplifier2()\n",
    "simplifier2.add_debt(\"Alice\", \"Bob\", 40)\n",
    "simplifier2.add_debt(\"Bob\", \"Charlie\", 20)\n",
    "simplifier2.add_debt(\"Charlie\", \"David\", 50)\n",
    "simplifier2.add_debt(\"Fred\", \"Bob\", 10)\n",
    "simplifier2.add_debt(\"Fred\", \"Charlie\", 30)\n",
    "simplifier2.add_debt(\"Fred\", \"David\", 30)\n",
    "simplifier2.add_debt(\"Fred\", \"Gabe\", 10)\n",
    "simplifier2.add_debt(\"Gabe\", \"Alice\", 30)\n",
    "simplifier2.add_debt(\"Gabe\", \"Charlie\", 10)\n",
    "simplifier2.add_debt(\"Gabe\", \"Fred\", 20)\n",
    "\n",
    "simplified_transactions2 = simplifier2.simplify_debts()\n",
    "print(\"The optimal transaction is\")\n",
    "for debtor, creditor, amount in simplified_transactions2:\n",
    "    print(f\"{debtor} owes {creditor} ${amount}\")\n",
    "        \n",
    "        \n",
    "        \n",
    "        "
   ]
  },
  {
   "cell_type": "code",
   "execution_count": 12,
   "id": "7a2f3309",
   "metadata": {},
   "outputs": [
    {
     "name": "stdout",
     "output_type": "stream",
     "text": [
      "4.946660800000245\n",
      "15.640314399999625\n"
     ]
    }
   ],
   "source": [
    "import timeit\n",
    "method1 = timeit.timeit(lambda:simplifier1.simplify_debts() ,number=100000) * len(simplified_transactions1)\n",
    "method2 = timeit.timeit(lambda: simplifier2.simplify_debts(),number=100000) * len(simplified_transactions2)\n",
    "print(method1)\n",
    "print(method2)"
   ]
  }
 ],
 "metadata": {
  "kernelspec": {
   "display_name": "lab_DSA",
   "language": "python",
   "name": "lab_dsa"
  },
  "language_info": {
   "codemirror_mode": {
    "name": "ipython",
    "version": 3
   },
   "file_extension": ".py",
   "mimetype": "text/x-python",
   "name": "python",
   "nbconvert_exporter": "python",
   "pygments_lexer": "ipython3",
   "version": "3.10.4"
  }
 },
 "nbformat": 4,
 "nbformat_minor": 5
}
