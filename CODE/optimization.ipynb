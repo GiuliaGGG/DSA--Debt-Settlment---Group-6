{
 "cells": [
  {
   "cell_type": "code",
   "execution_count": 1,
   "id": "c3e141cf",
   "metadata": {},
   "outputs": [
    {
     "name": "stdout",
     "output_type": "stream",
     "text": [
      "The optimal transaction is\n",
      "Fred owes David $60\n",
      "Gabe owes Bob $30\n",
      "Alice owes Charlie $10\n"
     ]
    }
   ],
   "source": [
    "class DebtSimplifier:\n",
    "    def __init__(self):\n",
    "        self.debts = []\n",
    "\n",
    "    def add_debt(self, borrower, lender, amount):\n",
    "        self.debts.append((borrower, lender, amount))\n",
    "\n",
    "    def simplify_debts(self):\n",
    "        net_balance = {}\n",
    "        for borrower, lender, amount in self.debts:\n",
    "            net_balance[borrower] = net_balance.get(borrower, 0) - amount\n",
    "            net_balance[lender] = net_balance.get(lender, 0) + amount\n",
    "\n",
    "        simplified_transactions = []\n",
    "        while True:\n",
    "            max_creditor = max(net_balance, key=net_balance.get)\n",
    "            max_debtor = min(net_balance, key=net_balance.get)\n",
    "\n",
    "            if net_balance[max_creditor] == 0:\n",
    "                break\n",
    "\n",
    "            transaction_amount = min(-net_balance[max_debtor], net_balance[max_creditor])\n",
    "            simplified_transactions.append((max_debtor, max_creditor, transaction_amount))\n",
    "\n",
    "            net_balance[max_debtor] += transaction_amount\n",
    "            net_balance[max_creditor] -= transaction_amount\n",
    "\n",
    "        return simplified_transactions\n",
    "\n",
    "# Example usage:\n",
    "simplifier = DebtSimplifier()\n",
    "simplifier.add_debt(\"Alice\", \"Bob\", 40)\n",
    "simplifier.add_debt(\"Bob\", \"Charlie\", 20)\n",
    "simplifier.add_debt(\"Charlie\", \"David\", 50)\n",
    "simplifier.add_debt(\"Fred\", \"Bob\", 10)\n",
    "simplifier.add_debt(\"Fred\", \"Charlie\", 30)\n",
    "simplifier.add_debt(\"Fred\", \"David\", 10)\n",
    "simplifier.add_debt(\"Fred\", \"Gabe\", 10)\n",
    "simplifier.add_debt(\"Gabe\", \"Alice\", 30)\n",
    "simplifier.add_debt(\"Gabe\", \"Charlie\", 10)\n",
    "\n",
    "simplified_transactions = simplifier.simplify_debts()\n",
    "print(\"The optimal transaction is\")\n",
    "for debtor, creditor, amount in simplified_transactions:\n",
    "    print(f\"{debtor} owes {creditor} ${amount}\")\n"
   ]
  },
  {
   "cell_type": "markdown",
   "id": "f34c9111",
   "metadata": {},
   "source": [
    "$O(n \\times m)$ $n$ is the number of debts (transactions) and the $m$ is the number of unique people involved "
   ]
  }
 ],
 "metadata": {
  "kernelspec": {
   "display_name": "lab_DSA",
   "language": "python",
   "name": "lab_dsa"
  },
  "language_info": {
   "codemirror_mode": {
    "name": "ipython",
    "version": 3
   },
   "file_extension": ".py",
   "mimetype": "text/x-python",
   "name": "python",
   "nbconvert_exporter": "python",
   "pygments_lexer": "ipython3",
   "version": "3.10.4"
  }
 },
 "nbformat": 4,
 "nbformat_minor": 5
}
