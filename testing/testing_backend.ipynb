{
 "cells": [
  {
   "cell_type": "code",
   "execution_count": 2,
   "id": "71fc43b7",
   "metadata": {},
   "outputs": [
    {
     "data": {
      "image/png": "[encoded data removed]",
      "text/plain": [
       "<PIL.PngImagePlugin.PngImageFile image mode=RGBA size=432x288 at 0x1363FB83A00>"
      ]
     },
     "metadata": {},
     "output_type": "display_data"
    }
   ],
   "source": [
    "from PIL import Image\n",
    "from IPython.display import display\n",
    "img = Image.open('pic/transaction_graph.png')\n",
    "display(img)"
   ]
  },
  {
   "cell_type": "markdown",
   "id": "b0c420a1",
   "metadata": {},
   "source": [
    "Our assumption for the optimal transaction is [('Minho', 'Milton', 30.0), ('Camilo', 'Elena', 20.0)]. It mean, Minho has to get 30 from Milton, and Camilo has to get 20 from Elena. Let's check this assumption on two main debt settlement algorithms: Python Sort, Merge Sort "
   ]
  },
  {
   "cell_type": "code",
   "execution_count": 8,
   "id": "9faef6f6",
   "metadata": {},
   "outputs": [
    {
     "name": "stdout",
     "output_type": "stream",
     "text": [
      "\u001b[1m======================================= test session starts =======================================\u001b[0m\n",
      "platform win32 -- Python 3.8.8, pytest-6.2.3, py-1.10.0, pluggy-0.13.1 -- C:\\Users\\LG\\anaconda3\\python.exe\n",
      "cachedir: .pytest_cache\n",
      "hypothesis profile 'default' -> database=DirectoryBasedExampleDatabase('C:\\\\Users\\\\LG\\\\Desktop\\\\Hertie\\\\2024_S\\\\DataStructuresAlgorithms\\\\Project\\\\DSA-Debt-Settlement-Group-6\\\\testing\\\\.hypothesis\\\\examples')\n",
      "rootdir: C:\\Users\\LG\\Desktop\\Hertie\\2024_S\\DataStructuresAlgorithms\\Project\\DSA-Debt-Settlement-Group-6\\testing\n",
      "plugins: anyio-3.6.1, hypothesis-6.24.0, cov-3.0.0\n",
      "\u001b[1mcollecting ... \u001b[0mcollected 2 items\n",
      "\n",
      "t_f0c7d44068c54aedb19a563c6fea4808.py::test_python_sort \u001b[32mPASSED\u001b[0m\u001b[32m                               [ 50%]\u001b[0m\n",
      "t_f0c7d44068c54aedb19a563c6fea4808.py::test_merge_sort \u001b[32mPASSED\u001b[0m\u001b[32m                                [100%]\u001b[0m\n",
      "\n",
      "\u001b[32m======================================== \u001b[32m\u001b[1m2 passed\u001b[0m\u001b[32m in 0.06s\u001b[0m\u001b[32m ========================================\u001b[0m\n"
     ]
    }
   ],
   "source": [
    "import ipytest\n",
    "ipytest.autoconfig()\n",
    "from debt_settlement import calculate_debts_python_sorted, calculate_debts_merge_sort \n",
    "\n",
    "class Expense:\n",
    "    def __init__(self, payer, debtors, amount):\n",
    "        self.payer = payer\n",
    "        self.debtors = debtors\n",
    "        self.amount = amount\n",
    "expenses_test = [\n",
    "    Expense('Elena',['Camilo'], 50),\n",
    "    Expense('Camilo',['Milton'],30),\n",
    "    Expense('Milton',['Minho'],60),\n",
    "    Expense('Minho',['Elena'],30)\n",
    "]\n",
    "\n",
    "def test_python_sort():\n",
    "    assert calculate_debts_python_sorted(expenses_test) == [('Minho', 'Milton', 30.0), ('Camilo', 'Elena', 20.0)]\n",
    "    \n",
    "def test_merge_sort():\n",
    "    assert calculate_debts_merge_sort(expenses_test) == [('Minho', 'Milton', 30.0), ('Camilo', 'Elena', 20.0)]\n",
    "    \n",
    "ipytest.run('-vv')\n",
    "ipytest.clean()"
   ]
  },
  {
   "cell_type": "markdown",
   "id": "f70ab5fb",
   "metadata": {},
   "source": [
    "Even though it spits the warning, but two algorithms work correctly!! Then, the last part is to check whether it raise the correct *ValueError* message when the debt amount is negative (because there is no negative currency in the world)."
   ]
  },
  {
   "cell_type": "code",
   "execution_count": 35,
   "id": "8c6b721e",
   "metadata": {},
   "outputs": [
    {
     "name": "stdout",
     "output_type": "stream",
     "text": [
      "\u001b[1m======================================= test session starts =======================================\u001b[0m\n",
      "platform win32 -- Python 3.8.8, pytest-6.2.3, py-1.10.0, pluggy-0.13.1 -- C:\\Users\\LG\\anaconda3\\python.exe\n",
      "cachedir: .pytest_cache\n",
      "hypothesis profile 'default' -> database=DirectoryBasedExampleDatabase('C:\\\\Users\\\\LG\\\\Desktop\\\\Hertie\\\\2024_S\\\\DataStructuresAlgorithms\\\\Project\\\\DSA-Debt-Settlement-Group-6\\\\testing\\\\.hypothesis\\\\examples')\n",
      "rootdir: C:\\Users\\LG\\Desktop\\Hertie\\2024_S\\DataStructuresAlgorithms\\Project\\DSA-Debt-Settlement-Group-6\\testing\n",
      "plugins: anyio-3.6.1, hypothesis-6.24.0, cov-3.0.0\n",
      "\u001b[1mcollecting ... \u001b[0mcollected 2 items\n",
      "\n",
      "t_f0c7d44068c54aedb19a563c6fea4808.py::test_python_sort_negative \u001b[31mFAILED\u001b[0m\u001b[31m                      [ 50%]\u001b[0m\n",
      "t_f0c7d44068c54aedb19a563c6fea4808.py::test_merge_sort_negative \u001b[31mFAILED\u001b[0m\u001b[31m                       [100%]\u001b[0m\n",
      "\n",
      "============================================ FAILURES =============================================\n",
      "\u001b[31m\u001b[1m____________________________________ test_python_sort_negative ____________________________________\u001b[0m\n",
      "\n",
      "    \u001b[94mdef\u001b[39;49;00m \u001b[92mtest_python_sort_negative\u001b[39;49;00m():\n",
      "        \u001b[90m# Test with negative expense\u001b[39;49;00m\n",
      ">       result = calculate_debts_python_sorted(expenses_test_negative)\n",
      "\n",
      "\u001b[1m\u001b[31m<ipython-input-35-18154086f334>\u001b[0m:14: \n",
      "_ _ _ _ _ _ _ _ _ _ _ _ _ _ _ _ _ _ _ _ _ _ _ _ _ _ _ _ _ _ _ _ _ _ _ _ _ _ _ _ _ _ _ _ _ _ _ _ _ _\n",
      "\n",
      "expenses = [<__main__.Expense object at 0x0000013644242EB0>, <__main__.Expense object at 0x0000013644242CD0>, <__main__.Expense object at 0x0000013644BB6550>, <__main__.Expense object at 0x0000013644640910>]\n",
      "\n",
      "    \u001b[94mdef\u001b[39;49;00m \u001b[92mcalculate_debts_python_sorted\u001b[39;49;00m(expenses):\n",
      "        balances = {}\n",
      "    \n",
      "        \u001b[90m# This part calculates each person's net balance.\u001b[39;49;00m\n",
      "        \u001b[94mfor\u001b[39;49;00m expense \u001b[95min\u001b[39;49;00m expenses:\n",
      "            \u001b[94mif\u001b[39;49;00m expense.amount >= \u001b[94m0\u001b[39;49;00m:\n",
      "                \u001b[90m# The amount owed per debtor is the total amount divided by the number of debtors\u001b[39;49;00m\n",
      "                amount_per_debtor = expense.amount / \u001b[96mlen\u001b[39;49;00m(expense.debtors)\n",
      "                \u001b[94mfor\u001b[39;49;00m debtor \u001b[95min\u001b[39;49;00m expense.debtors:\n",
      "                    \u001b[94mif\u001b[39;49;00m debtor != expense.payer:  \u001b[90m# Payer should not owe money to themselves\u001b[39;49;00m\n",
      "                        \u001b[90m# Update the debtor's balance\u001b[39;49;00m\n",
      "                        balances[debtor] = balances.get(\n",
      "                            debtor, \u001b[94m0\u001b[39;49;00m) - amount_per_debtor\n",
      "                        \u001b[90m# Update the payer's balance\u001b[39;49;00m\n",
      "                        balances[expense.payer] = balances.get(\n",
      "                            expense.payer, \u001b[94m0\u001b[39;49;00m) + amount_per_debtor\n",
      "            \u001b[94melse\u001b[39;49;00m:\n",
      ">               \u001b[94mraise\u001b[39;49;00m \u001b[96mException\u001b[39;49;00m(\u001b[33m\"\u001b[39;49;00m\u001b[33mExpense has to be positive\u001b[39;49;00m\u001b[33m\"\u001b[39;49;00m)\n",
      "\u001b[1m\u001b[31mE               Exception: Expense has to be positive\u001b[0m\n",
      "\n",
      "\u001b[1m\u001b[31mdebt_settlement.py\u001b[0m:24: Exception\n",
      "\u001b[31m\u001b[1m____________________________________ test_merge_sort_negative _____________________________________\u001b[0m\n",
      "\n",
      "    \u001b[94mdef\u001b[39;49;00m \u001b[92mtest_merge_sort_negative\u001b[39;49;00m():\n",
      "        \u001b[90m# Test with negative expenses\u001b[39;49;00m\n",
      ">       result = calculate_debts_merge_sort(expenses_test_negative)\n",
      "\n",
      "\u001b[1m\u001b[31m<ipython-input-35-18154086f334>\u001b[0m:21: \n",
      "_ _ _ _ _ _ _ _ _ _ _ _ _ _ _ _ _ _ _ _ _ _ _ _ _ _ _ _ _ _ _ _ _ _ _ _ _ _ _ _ _ _ _ _ _ _ _ _ _ _\n",
      "\n",
      "expenses = [<__main__.Expense object at 0x0000013644242EB0>, <__main__.Expense object at 0x0000013644242CD0>, <__main__.Expense object at 0x0000013644BB6550>, <__main__.Expense object at 0x0000013644640910>]\n",
      "\n",
      "    \u001b[94mdef\u001b[39;49;00m \u001b[92mcalculate_debts_merge_sort\u001b[39;49;00m(expenses):\n",
      "        balances = {}\n",
      "    \n",
      "        \u001b[90m# This part calculates each person's net balance.\u001b[39;49;00m\n",
      "        \u001b[94mfor\u001b[39;49;00m expense \u001b[95min\u001b[39;49;00m expenses:\n",
      "            \u001b[94mif\u001b[39;49;00m expense.amount >= \u001b[94m0\u001b[39;49;00m:\n",
      "                \u001b[90m# The amount owed per debtor is the total amount divided by the number of debtors\u001b[39;49;00m\n",
      "                amount_per_debtor = expense.amount / \u001b[96mlen\u001b[39;49;00m(expense.debtors)\n",
      "                \u001b[94mfor\u001b[39;49;00m debtor \u001b[95min\u001b[39;49;00m expense.debtors:\n",
      "                    \u001b[94mif\u001b[39;49;00m debtor != expense.payer:  \u001b[90m# Payer should not owe money to themselves\u001b[39;49;00m\n",
      "                        \u001b[90m# Update the debtor's balance\u001b[39;49;00m\n",
      "                        balances[debtor] = balances.get(\n",
      "                            debtor, \u001b[94m0\u001b[39;49;00m) - amount_per_debtor\n",
      "                        \u001b[90m# Update the payer's balance\u001b[39;49;00m\n",
      "                        balances[expense.payer] = balances.get(\n",
      "                            expense.payer, \u001b[94m0\u001b[39;49;00m) + amount_per_debtor\n",
      "            \u001b[94melse\u001b[39;49;00m:\n",
      ">               \u001b[94mraise\u001b[39;49;00m \u001b[96mException\u001b[39;49;00m(\u001b[33m\"\u001b[39;49;00m\u001b[33mExpense has to be positive\u001b[39;49;00m\u001b[33m\"\u001b[39;49;00m)\n",
      "\u001b[1m\u001b[31mE               Exception: Expense has to be positive\u001b[0m\n",
      "\n",
      "\u001b[1m\u001b[31mdebt_settlement.py\u001b[0m:78: Exception\n",
      "===================================== short test summary info =====================================\n",
      "FAILED t_f0c7d44068c54aedb19a563c6fea4808.py::test_python_sort_negative - Exception: Expense has ...\n",
      "FAILED t_f0c7d44068c54aedb19a563c6fea4808.py::test_merge_sort_negative - Exception: Expense has t...\n",
      "\u001b[31m======================================== \u001b[31m\u001b[1m2 failed\u001b[0m\u001b[31m in 0.17s\u001b[0m\u001b[31m ========================================\u001b[0m\n"
     ]
    },
    {
     "data": {
      "text/plain": [
       "<ExitCode.TESTS_FAILED: 1>"
      ]
     },
     "execution_count": 35,
     "metadata": {},
     "output_type": "execute_result"
    }
   ],
   "source": [
    "ipytest.clean()\n",
    "ipytest.autoconfig()\n",
    "import pytest\n",
    "\n",
    "expenses_test_negative = [\n",
    "    Expense('Elena',['Camilo'], -50),\n",
    "    Expense('Camilo',['Milton'],30),\n",
    "    Expense('Milton',['Minho'],60),\n",
    "    Expense('Minho',['Elena'],30)\n",
    "]\n",
    "\n",
    "# Here, we are going to test that even though we input the negative expense, whether algorithms works or not. \n",
    "# If both algorithms work correctly, then they should raise error message\n",
    "\n",
    "def test_python_sort_negative():\n",
    "    # Test with negative expense\n",
    "    result = calculate_debts_python_sorted(expenses_test_negative) \n",
    "    assert len(result) > 0 \n",
    "    # If the the function returns any meaningful result, which is problematic, then it will be passed, otherwise failed\n",
    "\n",
    "\n",
    "def test_merge_sort_negative():\n",
    "    # Test with negative expenses\n",
    "    result = calculate_debts_merge_sort(expenses_test_negative)\n",
    "    assert len(result) > 0\n",
    "    # If the the function returns any meaningful result, which is problematic, then it will be passed, otherwise failed\n",
    "    \n",
    "ipytest.run('-vv')"
   ]
  },
  {
   "cell_type": "markdown",
   "id": "dff45520",
   "metadata": {},
   "source": [
    "You can see that two tests are failed, which is what we want. Both algorithms properly raise the ValueError message \"Expense has to be positive\""
   ]
  }
 ],
 "metadata": {
  "kernelspec": {
   "display_name": "Python 3",
   "language": "python",
   "name": "python3"
  },
  "language_info": {
   "codemirror_mode": {
    "name": "ipython",
    "version": 3
   },
   "file_extension": ".py",
   "mimetype": "text/x-python",
   "name": "python",
   "nbconvert_exporter": "python",
   "pygments_lexer": "ipython3",
   "version": "3.8.8"
  }
 },
 "nbformat": 4,
 "nbformat_minor": 5
}
